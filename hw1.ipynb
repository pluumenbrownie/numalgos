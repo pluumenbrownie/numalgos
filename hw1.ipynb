{
 "cells": [
  {
   "cell_type": "markdown",
   "id": "bd0441ac-26f6-4296-9fe3-a06acaacfb0f",
   "metadata": {
    "nbgrader": {
     "grade": false,
     "grade_id": "cell-06d3e5bf55c941ae",
     "locked": true,
     "schema_version": 3,
     "solution": false,
     "task": false
    },
    "tags": []
   },
   "source": [
    "# Homework set 1"
   ]
  },
  {
   "cell_type": "markdown",
   "id": "edbbaaca-e68d-41ff-b640-d5f465de79cb",
   "metadata": {
    "nbgrader": {
     "grade": false,
     "grade_id": "cell-736ff6bc3e0d0696",
     "locked": true,
     "schema_version": 3,
     "solution": false,
     "task": false
    }
   },
   "source": [
    "Please **submit this Jupyter notebook through Canvas** no later than **Thursday November 7**. **Submit the notebook file with your answers (as .ipynb file) and a pdf printout. The pdf version can be used by the teachers to provide feedback. On canvas there are hints about creating a nice pdf version.**\n",
    "\n",
    "Before you hand in, please make sure the notebook runs, by running \"Restart kernel and run all cells...\" from the Kernel menu.\n",
    "\n",
    "Homework is in **groups of two**, and you are expected to hand in original work. Work that is copied from another group will not be accepted."
   ]
  },
  {
   "cell_type": "markdown",
   "id": "a931681c-c11f-4449-a9ed-9d9afad827e7",
   "metadata": {
    "nbgrader": {
     "grade": false,
     "grade_id": "cell-b13bc5ed16bce8e0",
     "locked": true,
     "schema_version": 3,
     "solution": false,
     "task": false
    }
   },
   "source": [
    "# Exercise 0\n",
    "Write down the names + student ID of the people in your group."
   ]
  },
  {
   "cell_type": "markdown",
   "id": "eca13bec-9e8b-47b8-948b-1a3ca34e283b",
   "metadata": {
    "nbgrader": {
     "grade": true,
     "grade_id": "cell-fd464f55ba436b1c",
     "locked": false,
     "points": 0,
     "schema_version": 3,
     "solution": true,
     "task": false
    }
   },
   "source": []
  },
  {
   "cell_type": "markdown",
   "id": "e4d4c0d3-79b1-4732-8042-ed7ab4f01b24",
   "metadata": {
    "nbgrader": {
     "grade": false,
     "grade_id": "cell-b5a7855ecca9f6be",
     "locked": true,
     "schema_version": 3,
     "solution": false,
     "task": false
    }
   },
   "source": [
    "Run the following cell to import NumPy and Pyplot."
   ]
  },
  {
   "cell_type": "code",
   "execution_count": 66,
   "id": "5c0b2f09-bf3e-4222-bfe6-a1e34cd1de9e",
   "metadata": {},
   "outputs": [],
   "source": [
    "import numpy as np\n",
    "import matplotlib.pyplot as plt\n",
    "from scipy.linalg import lu"
   ]
  },
  {
   "cell_type": "markdown",
   "id": "b6a5cb26-c738-47da-9532-1d8fc5f45889",
   "metadata": {},
   "source": [
    "# Writing efficient Numpy code"
   ]
  },
  {
   "cell_type": "markdown",
   "id": "df2e0c7f-b899-4e0f-a475-cd73ffe4b1ca",
   "metadata": {},
   "source": [
    "## Colon (:) notation\n",
    "In this section we give an introduction to indexing in Numpy. For further information see https://numpy.org/doc/stable/user/basics.indexing.html. \n",
    "\n",
    "By using colon (:) notation you can manipulate entire subblocks of vectors and matrices without having to write a for loop. Let's define a vector first\n",
    "\n",
    "\n"
   ]
  },
  {
   "cell_type": "code",
   "execution_count": 2,
   "id": "51d95976-9bb8-4099-8b88-155786dae30c",
   "metadata": {},
   "outputs": [],
   "source": [
    "vec1 = np.array( [ 10, 20, 30, 40, 50, 60, 70, 80, 90, 100, 110, 120 ] )"
   ]
  },
  {
   "cell_type": "markdown",
   "id": "add57ca3-a5a8-4af3-bb5c-315149080fa3",
   "metadata": {},
   "source": [
    "Using square brackets we can, of course, access the individual elements of this array. For example, to access the fourth element (in human language) we write"
   ]
  },
  {
   "cell_type": "code",
   "execution_count": 3,
   "id": "ff650b98-9e83-447e-8725-1d15a518068e",
   "metadata": {},
   "outputs": [
    {
     "data": {
      "text/plain": [
       "40"
      ]
     },
     "execution_count": 3,
     "metadata": {},
     "output_type": "execute_result"
    }
   ],
   "source": [
    "vec1[3]   # As you know, Python indexing starts at 0"
   ]
  },
  {
   "cell_type": "markdown",
   "id": "050f7428-900e-4687-ae24-77db13b3adcd",
   "metadata": {},
   "source": [
    "Frequently we want to manipulate a range of values of a vector, or a block of values of a matrix. For these scenarios, there is colon indexing. For example, to assign elements $2, 3, 4, 5$ of `vec1` to a new vector `vec2`, we write"
   ]
  },
  {
   "cell_type": "code",
   "execution_count": 4,
   "id": "336d556d-ae35-48fe-aa12-ddb97be9e939",
   "metadata": {},
   "outputs": [
    {
     "name": "stdout",
     "output_type": "stream",
     "text": [
      "[30 40 50 60]\n"
     ]
    }
   ],
   "source": [
    "# Get elements 2 to 5 from vec1 and put it in vec2\n",
    "vec2 = vec1[2:6]\n",
    "print(vec2)"
   ]
  },
  {
   "cell_type": "markdown",
   "id": "61a98041-0dc7-41ee-8bd8-afc80a48f2ff",
   "metadata": {},
   "source": [
    "This extends to matrices. For example, if we have a $5 \\times 5$ matrix $A$ and we want to change a subblock of this matrix this can be done as follows\n"
   ]
  },
  {
   "cell_type": "code",
   "execution_count": 5,
   "id": "b118a7ed-97cc-4327-8c5a-bde3924d3a77",
   "metadata": {},
   "outputs": [
    {
     "name": "stdout",
     "output_type": "stream",
     "text": [
      "Initial choice of A: \n",
      " [[0. 0. 0. 0. 0.]\n",
      " [0. 0. 0. 0. 0.]\n",
      " [0. 0. 0. 0. 0.]\n",
      " [0. 0. 0. 0. 0.]\n",
      " [0. 0. 0. 0. 0.]]\n",
      "A after modifying a subblock: \n",
      " [[ 0.  0.  0.  0.  0.]\n",
      " [ 0.  0.  0.  0.  0.]\n",
      " [ 0.  0.  1.  2.  0.]\n",
      " [ 0.  0. 11. 12.  0.]\n",
      " [ 0.  0.  0.  0.  0.]]\n"
     ]
    }
   ],
   "source": [
    "# A 5x5 matrix of zeros\n",
    "A = np.zeros( (5,5) )\n",
    "print('Initial choice of A: \\n', A)\n",
    "\n",
    "# Change a 2x2 subblock of A \n",
    "A[2:4, 2:4] = np.array([[1,2],[11,12]])\n",
    "print('A after modifying a subblock: \\n',A)"
   ]
  },
  {
   "cell_type": "markdown",
   "id": "ba674980-018e-4aeb-87f4-7cb0a14b51ab",
   "metadata": {},
   "source": [
    "There are many more possibilities with the Numpy colon notation, of which we mention a few:"
   ]
  },
  {
   "cell_type": "code",
   "execution_count": 6,
   "id": "814c749d-52e2-4f78-b242-6245d49ea0f1",
   "metadata": {},
   "outputs": [
    {
     "name": "stdout",
     "output_type": "stream",
     "text": [
      "every second element:  [ 10  30  50  70  90 110]\n",
      "first three values:  [10 20 30]\n",
      "last three values:  [100 110 120]\n",
      "all values:  [ 10  20  30  40  50  60  70  80  90 100 110 120]\n",
      "all values:  [1 1 1 1 1 1 1 1 1 1 1 1]\n"
     ]
    }
   ],
   "source": [
    "# a stepsize can be introduced using the notation start:stop:step\n",
    "print('every second element: ', vec1[0:12:2])\n",
    "\n",
    "# in the notation start:stop, omitting the start value means \"start from 0\"\n",
    "print('first three values: ', vec1[:3])\n",
    "\n",
    "# negative numbers mean \"count from the end\"\n",
    "print('last three values: ', vec1[-3:])\n",
    "\n",
    "# a single colon means \"all values\"\n",
    "print('all values: ', vec1[:])\n",
    "\n",
    "# Example: the following changes the values in the existing array vec1\n",
    "# It does not allocate a new array, like with vec1 = np.ones(...)\n",
    "vec1[:] = 1.0\n",
    "\n",
    "print('all values: ', vec1[:])"
   ]
  },
  {
   "cell_type": "markdown",
   "id": "d79fbe5f-2749-4277-978c-f85a898e304c",
   "metadata": {},
   "source": [
    "## Performance advantage of vector operations"
   ]
  },
  {
   "cell_type": "markdown",
   "id": "d70431f7-c97c-4c01-8b88-537af3e8e26b",
   "metadata": {},
   "source": [
    "We just saw how to easily manipulate subblocks of vectors and matrices using colon indexing. This generally makes sense for short code. Without colon indexing, the one-line manipulations above would require a for loop and hence multiple lines of code.\n",
    "\n",
    "Numpy also has many other convenient functions that replace for loops. For example, by using the function numpy.sum you can sum all the elements of a vector without writing a Python for loop. There are many more examples of this coding style, which is called vectorization (replacing for loops by vector commands).\n",
    "\n",
    "Not only does it make for short code, vectorized code is often also much faster.\n",
    "This is because Python is in general a slow language, much slower than for example C. Each line incurs a certain overhead[^1]. Numpy operations are basically calls to C code that perform the vector manipulations efficiently. When executing a vector operation with colon notation, the Python overhead is incurred only once. On the other hand, when executing a Python loop, the Python overhead is incurred each time the code in the loop is executed. Therefore using vector operations with colon notation is generally preferred.\n",
    "\n",
    "[^1]: A full discussion of this is outside the scope of this course."
   ]
  },
  {
   "cell_type": "markdown",
   "id": "7c78d383",
   "metadata": {},
   "source": [
    "### Example: Matrix multiplication\n",
    "\n",
    "Here we present a short demo showcasing *how much* faster vectorized operations actually are. We will write two versions of a function that computes a matrix product `C` of two matrices `A` and `B`. We will use the [`%timeit`](https://stackoverflow.com/questions/29280470/what-is-timeit-in-python) macro to investigate the performance of each version."
   ]
  },
  {
   "cell_type": "markdown",
   "id": "9cf6338b",
   "metadata": {},
   "source": [
    "In the first version of our function we have three `for` loops. We iterate over each entry in matrix `C` and compute it using another `for` loop, which sums up all the products of corresponding entries in row `i` in matrix `A` and column `j` in matrix `B`.\n",
    "\n",
    "Compute, on paper, the matrix product below and convince yourself that the following implementation is correct. \n",
    "$$\\begin{bmatrix}\n",
    "1 & 2 & 3 \\\\\n",
    "4 & 5 & 6 \\\\\n",
    "\\end{bmatrix}\n",
    "\\times\n",
    "\\begin{bmatrix}\n",
    "10 & 11 \\\\\n",
    "20 & 21 \\\\\n",
    "30 & 31 \\\\\n",
    "\\end{bmatrix}\n",
    "= \\mathord{?}\n",
    "$$"
   ]
  },
  {
   "cell_type": "code",
   "execution_count": 7,
   "id": "2b65e90a",
   "metadata": {},
   "outputs": [],
   "source": [
    "A = np.array([[1,2,3],[4,5,6]], dtype=int)\n",
    "B = np.array([[10,11],[20,21],[30,31]], dtype=int)"
   ]
  },
  {
   "cell_type": "code",
   "execution_count": 8,
   "id": "a78d2503",
   "metadata": {},
   "outputs": [],
   "source": [
    "def slow_matmul(A, B, C):\n",
    "    \"\"\"\n",
    "    Computes the matrix product of matrices A and B and stores it in matrix C\n",
    "    \"\"\"    \n",
    "    for i in range(A.shape[0]):\n",
    "        for j in range(B.shape[1]):\n",
    "            C[i, j] = 0\n",
    "            for k in range(A.shape[1]):\n",
    "                C[i, j] += A[i,k] * B[k,j]"
   ]
  },
  {
   "cell_type": "code",
   "execution_count": 9,
   "id": "4b2343f9",
   "metadata": {},
   "outputs": [
    {
     "name": "stdout",
     "output_type": "stream",
     "text": [
      "[[140 146]\n",
      " [320 335]]\n"
     ]
    }
   ],
   "source": [
    "C = np.zeros((A.shape[0], B.shape[1]), dtype=int)\n",
    "\n",
    "slow_matmul(A, B, C)\n",
    "print(C)"
   ]
  },
  {
   "cell_type": "markdown",
   "id": "8fc94473",
   "metadata": {},
   "source": [
    "In the second version we replace the third `for` loop with a vectorized `np.sum()`. In fact, we use two vectorized operations here. Notice how we efficiently compute all the products of corresponding entries `A` and  `B`. By calling `A[i] * B[:, j]` we compute all the products at once, instead of doing it one-by-one as in the previous version. Look at the code and convince yourself that the implementation is correct."
   ]
  },
  {
   "cell_type": "code",
   "execution_count": 10,
   "id": "6cd2c90f",
   "metadata": {},
   "outputs": [],
   "source": [
    "def faster_matmul(A, B, C):\n",
    "    \"\"\"\n",
    "    Computes the matrix product of matrices A and B and stores it in matrix C\n",
    "    \"\"\"  \n",
    "    for i in range(A.shape[0]):\n",
    "        for j in range(B.shape[1]):\n",
    "            C[i, j] = np.sum(A[i] * B[:, j])"
   ]
  },
  {
   "cell_type": "code",
   "execution_count": 11,
   "id": "8ed1a884",
   "metadata": {},
   "outputs": [
    {
     "name": "stdout",
     "output_type": "stream",
     "text": [
      "[[140 146]\n",
      " [320 335]]\n"
     ]
    }
   ],
   "source": [
    "A = np.array([[1,2,3],[4,5,6]], dtype=int)\n",
    "B = np.array([[10,11],[20,21],[30,31]], dtype=int)\n",
    "C = np.zeros((A.shape[0], B.shape[1]), dtype=int)\n",
    "\n",
    "faster_matmul(A, B, C)\n",
    "print(C)"
   ]
  },
  {
   "cell_type": "markdown",
   "id": "d30df670",
   "metadata": {},
   "source": [
    "Now we will compare the performance of both versions by computing the matrix product of two $200 \\times 200$ matrices. You can rerun the cells yourself, but keep in mind the execution might take a minute or two for the `slow_matmul` implementation."
   ]
  },
  {
   "cell_type": "code",
   "execution_count": 12,
   "id": "5d803fcb",
   "metadata": {},
   "outputs": [],
   "source": [
    "A = np.random.randint(0, 100, (200, 200), dtype=int)\n",
    "B = np.random.randint(0, 100, (200, 200), dtype=int)"
   ]
  },
  {
   "cell_type": "code",
   "execution_count": 13,
   "id": "8f287ebc",
   "metadata": {},
   "outputs": [
    {
     "name": "stdout",
     "output_type": "stream",
     "text": [
      "4.2 s ± 12.9 ms per loop (mean ± std. dev. of 7 runs, 1 loop each)\n"
     ]
    }
   ],
   "source": [
    "C = np.zeros((A.shape[0], B.shape[1]), dtype=int)\n",
    "\n",
    "%timeit slow_matmul(A, B, C)"
   ]
  },
  {
   "cell_type": "code",
   "execution_count": 14,
   "id": "e1f3abb4",
   "metadata": {},
   "outputs": [
    {
     "name": "stdout",
     "output_type": "stream",
     "text": [
      "181 ms ± 1.01 ms per loop (mean ± std. dev. of 7 runs, 10 loops each)\n"
     ]
    }
   ],
   "source": [
    "A = np.random.randint(0, 100, (200, 200), dtype=int)\n",
    "B = np.random.randint(0, 100, (200, 200), dtype=int)\n",
    "C = np.zeros((A.shape[0], B.shape[1]), dtype=int)\n",
    "\n",
    "%timeit faster_matmul(A, B, C)"
   ]
  },
  {
   "cell_type": "markdown",
   "id": "bc00f9c8",
   "metadata": {},
   "source": [
    "On my machine `slow_matmul` ran on average 3.2 s ± 23 ms and `faster_matmul` ran on average 172 ms ± 4.42 ms, meaning that `faster_matmul` was more than $18$ times faster."
   ]
  },
  {
   "cell_type": "markdown",
   "id": "a009385e",
   "metadata": {},
   "source": [
    "Of course, you might already know this, but you should never write your own implementation of matrix multiplication (unless we specifically ask for it). The demo presented above was for illustrative purposes.\n",
    "\n",
    "The most efficient way to multiply two matrices using Numpy is to use `@` operator which calls the `np.matmul` function."
   ]
  },
  {
   "cell_type": "code",
   "execution_count": 15,
   "id": "3e0149d6",
   "metadata": {},
   "outputs": [
    {
     "name": "stdout",
     "output_type": "stream",
     "text": [
      "4.73 ms ± 43.6 μs per loop (mean ± std. dev. of 7 runs, 100 loops each)\n"
     ]
    }
   ],
   "source": [
    "%timeit A @ B"
   ]
  },
  {
   "cell_type": "markdown",
   "id": "2cfb7a88",
   "metadata": {},
   "source": [
    "On my machine `A @ B` needed, on average, 9.9 ms ± 151 μs to execute meaning that it is more than $323$ times faster than `slow_matmul` and $17$ times faster than `faster_matmul`."
   ]
  },
  {
   "cell_type": "markdown",
   "id": "a0e7ae57",
   "metadata": {},
   "source": [
    "---"
   ]
  },
  {
   "cell_type": "markdown",
   "id": "af4a5ce3-fe45-4bf6-9461-8361ea5228f3",
   "metadata": {},
   "source": [
    "# Exercise 1\n",
    "\n",
    "Suppose $x_1$ and $x_2$ are two real numbers and that approximate values $\\hat{x}_1$ and $\\hat{x}_2$ are available such that the relative errors satisfy\n",
    "$\\frac{ | \\Delta x_1 | }{ | x_1 | } \\le r_1$\n",
    "and \n",
    "$\\frac{ | \\Delta x_2 | }{ | x_2 | } \\le r_2$\n",
    "for two real numbers $r_1$ and $r_2$. \n",
    "What is the bound for the relative error in the product $\\hat{x}_1 \\hat{x}_2$?\n",
    "\n",
    "\n"
   ]
  },
  {
   "cell_type": "markdown",
   "id": "076de3cf",
   "metadata": {},
   "source": [
    "*( Your solution goes here, note that this is not a coding excercise )*"
   ]
  },
  {
   "cell_type": "markdown",
   "id": "d59cbd75",
   "metadata": {},
   "source": [
    "---"
   ]
  },
  {
   "cell_type": "markdown",
   "id": "67351b7a-4240-4450-ae22-d5b1890d11ac",
   "metadata": {},
   "source": [
    "# Exercise 2"
   ]
  },
  {
   "cell_type": "markdown",
   "id": "5df8977a-f321-4db6-92da-71eace065596",
   "metadata": {},
   "source": [
    "Solve computational exercise 2.3 from Heath (page 99) using your own implementation of LU decomposition with partial pivoting and of back- and forward substitution. Also read carefully the derivation of the matrix for use in the next exercise.\n",
    "\n",
    "As you noticed, there is a short section on colon (:) notation and vectorization in Numpy at the start of this homework set. In the LU decomposition there are a few places where for loops can easily be replaced by vectorized commands. You are asked to use vectorized operations and colon notation in these cases. The same holds for forward and backward substitution.\n",
    "\n",
    "Please first implement the functions for which the headers are in the next cell. Then apply these to solve the problem at hand."
   ]
  },
  {
   "cell_type": "code",
   "execution_count": 207,
   "id": "bf3717d7-56ce-4bd1-9967-f4c72b099462",
   "metadata": {},
   "outputs": [],
   "source": [
    "def factorize(A):\n",
    "    '''\n",
    "    returns a triple (P,L,U) describing the LU decomposition with partial pivoting\n",
    "    \n",
    "    ```\n",
    "    P A = L U\n",
    "    ```\n",
    "    '''\n",
    "    # print(f\"Before: \\n{A = }\")\n",
    "    n = A.shape[0]\n",
    "    P = np.identity(n)\n",
    "    M = np.identity(n)\n",
    "    U = np.copy(A)\n",
    "\n",
    "    for k in range(0, n-1):\n",
    "        pivot_index = np.argmax(U[k:, k]) + k\n",
    "        if not pivot_index == k:\n",
    "            U[[k, pivot_index]] = U[[pivot_index, k]]\n",
    "            P[[k, pivot_index]] = P[[pivot_index, k]]\n",
    "            M[[k, pivot_index]] = M[[pivot_index, k]]\n",
    "            \n",
    "        akk = U[k, k]\n",
    "        if akk == 0:\n",
    "            continue\n",
    "        m_matrix = np.identity(n)\n",
    "        m_matrix[k+1:, k] = - U[k+1:, k] / akk\n",
    "        # print(f\"{m_matrix = }\")\n",
    "        # first_row_matrix = np.zeros_like(A[k+1:k])\n",
    "        # first_row_matrix[:] = A[k]\n",
    "        # print(f\"{first_row_matrix = }\")\n",
    "        # A[k+1:k] = A[k+1:k] - first_row_matrix * m_array\n",
    "        U = m_matrix @ U\n",
    "        M = m_matrix @ M\n",
    "    # print(f\"After : \\n{U = }\") \n",
    "    L = P @ np.linalg.inv(M)\n",
    "    # print(f\"{L = }\")\n",
    "\n",
    "    return P, L, U\n",
    "\n",
    "def forwardSubstitution(L, b):\n",
    "    \n",
    "    n = len(L)\n",
    "    x = [0]*n\n",
    "    \n",
    "    for i in range(n):\n",
    "        tally = 0\n",
    "        for j in range(i):\n",
    "            tally += L[i][j] * x[j]\n",
    "        if L[i][i]!=0:    \n",
    "            x[i] = (b[i] - tally) / L[i][i]\n",
    "        else:\n",
    "            continue\n",
    "    return x\n",
    "\n",
    " \n",
    "\n",
    "    \n",
    "\n",
    "\n",
    "    \n",
    "\n",
    "    # your code here\n",
    "\n",
    "def backwardSubstitution(U, b):\n",
    "    '''\n",
    "    your doc string here\n",
    "    '''\n",
    "    # your code here"
   ]
  },
  {
   "cell_type": "code",
   "execution_count": null,
   "id": "b3f37695-9ed5-4763-b150-b2a5a3bfd3ea",
   "metadata": {},
   "outputs": [
    {
     "name": "stdout",
     "output_type": "stream",
     "text": [
      "[[1.00000000e+00 2.00000000e+00 3.00000000e+00 4.00000000e+00]\n",
      " [9.00000000e+00 8.00000000e+00 7.00000000e+00 6.00000000e+00]\n",
      " [4.00000000e+00 3.00000000e+00 1.11022302e-16 4.00000000e+00]\n",
      " [5.00000000e+00 0.00000000e+00 1.00000000e+00 2.00000000e+00]]\n",
      "[0, 0, 0, 0, 0, 0, 0, 0, 0, 0, 0, -0.0, -0.0]\n"
     ]
    }
   ],
   "source": [
    "test_matrix = np.array([\n",
    "    [1, 2, 3, 4],\n",
    "    [9, 8, 7, 6],\n",
    "    [4, 3, 0, 4],\n",
    "    [5, 0, 1, 2]\n",
    "])\n",
    "# test_matrix = np.array([\n",
    "#     [1, 2, 3, 4],\n",
    "#     [9, 8, 7, 6],\n",
    "#     [4, 3, 1, 4],\n",
    "#     [5, 1, 1, 2]\n",
    "# ])\n",
    "# test_matrix = np.array([\n",
    "#     [1,         1.11111111, 2.22222222, 3.33333333],\n",
    "#     [0,         0.,         0.,         5.25      ],\n",
    "#     [0,         4.,         4.,         9.        ],\n",
    "#     [9,         8.,         7.,         6.        ],\n",
    "# ])\n",
    "P, L, U = factorize(test_matrix)\n",
    "# example_matrix = np.array([\n",
    "#     [1, 2, 2],\n",
    "#     [4, 4, 2],\n",
    "#     [4, 6, 4],\n",
    "# ])\n",
    "# P, L, U = factorize(example_matrix)\n",
    "#correct = lu(test_matrix)\n",
    "#print(f\"P = \\n{P}\\nCorrect P = \\n{np.linalg.inv(correct[0])}\\nL = \\n{L}\\nCorrect L = \\n{correct[1]}\\nU = \\n{U}\\nCorrect U = \\n{correct[2]}\")\n",
    "# print()\n",
    "# print(f\"P @ test_matrix = \\n{P @ test_matrix}\")\n",
    "# print(f\"L @ U = \\n{L @ U}\")\n",
    "assert np.allclose(P @ test_matrix, L @ U)\n",
    "print(f\"{np.linalg.inv(P) @ L @ U}\")\n",
    "assert np.allclose(test_matrix, np.linalg.inv(P) @ L @ U), f\"{np.linalg.inv(P) @ L @ U}\"\n"
   ]
  },
  {
   "cell_type": "markdown",
   "id": "ea51b180",
   "metadata": {},
   "source": [
    "---"
   ]
  },
  {
   "cell_type": "markdown",
   "id": "906ae551-7e36-440f-b4d5-e9b46919d36c",
   "metadata": {},
   "source": [
    "# Exercise 3"
   ]
  },
  {
   "cell_type": "markdown",
   "id": "0736a477-4e38-47e1-a2a8-79cad44e06f1",
   "metadata": {},
   "source": [
    "In exercise 2, you were asked to solve exercise 2.3 from Heath. In this assignment you are asked to create a program that automatically creates the equations for the forces in the truss.\n",
    "\n",
    "We first need a description of a truss. A simple way of doing this is by giving the coordinates of the joints and then list the pairs of joints that are connected, as follows:"
   ]
  },
  {
   "cell_type": "code",
   "execution_count": 18,
   "id": "5a334c30-50b8-4006-97f3-a863cbf9df7a",
   "metadata": {},
   "outputs": [],
   "source": [
    "# coordinates of joints\n",
    "joints1 = [ (0,0), (1,0), (1,1), (2,1), (2,0), (3,0), (3,1), (4,0) ] \n",
    "\n",
    "# pairs indicating which joints are connected\n",
    "members1 = [ (0,2), (0,1), (1,2), (2,3), (2,4), (1,4), \n",
    "         (3,4), (3,6), (4,6), (4,5), (5,6), (6,7), (5,7) ]"
   ]
  },
  {
   "cell_type": "markdown",
   "id": "de507563-04de-432d-a4cb-2564acbf4883",
   "metadata": {},
   "source": [
    "To check this input, we plot it"
   ]
  },
  {
   "cell_type": "code",
   "execution_count": 19,
   "id": "6a9cc341-61d9-48f8-b688-b35185e5682d",
   "metadata": {},
   "outputs": [],
   "source": [
    "def DrawTruss(joints, members):\n",
    "    xx = [ p[0] for p in joints ]\n",
    "    yy = [ p[1] for p in joints ]\n",
    "    plt.scatter(xx,yy,color='r')\n",
    "    for (j,p) in enumerate(joints):\n",
    "        plt.text(p[0]+0.03,p[1],f\"{j}\")\n",
    "    for (jA, jB) in members:\n",
    "        xxMember = np.array( [joints[i][0] for i in (jA,jB) ] )\n",
    "        yyMember = np.array( [joints[i][1] for i in (jA,jB) ] )\n",
    "        plt.plot(xxMember, yyMember, 'b')\n"
   ]
  },
  {
   "cell_type": "code",
   "execution_count": 211,
   "id": "cbdd3c52-8e7a-4b60-9b18-5d1cf76ac13b",
   "metadata": {},
   "outputs": [
    {
     "data": {
      "image/png": "[encoded data removed]",
      "text/plain": [
       "<Figure size 640x480 with 1 Axes>"
      ]
     },
     "metadata": {},
     "output_type": "display_data"
    }
   ],
   "source": [
    "(fig, ax) = plt.subplots()\n",
    "DrawTruss(joints1, members1)\n",
    "ax.set_aspect(1.0)"
   ]
  },
  {
   "cell_type": "markdown",
   "id": "670a3ca1-3030-4e4b-bf59-ffd0e5b9ddf5",
   "metadata": {},
   "source": [
    "## (a)\n",
    "\n",
    "Modify `DrawTruss` such that the routine can draw the numbers of the members in the graph halfway each member."
   ]
  },
  {
   "cell_type": "code",
   "execution_count": 210,
   "id": "47b5bcf4-8185-4235-8ab8-4c4ba546a0b9",
   "metadata": {},
   "outputs": [],
   "source": [
    "def DrawTruss(joints, members):\n",
    "    xx = [ p[0] for p in joints ]\n",
    "    yy = [ p[1] for p in joints ]\n",
    "    plt.scatter(xx,yy,color='r')\n",
    "    for (j,p) in enumerate(joints):\n",
    "        plt.text(p[0]+0.03,p[1],f\"{j}\")\n",
    "    for index, (jA, jB) in enumerate(members):\n",
    "        xxMember = np.array( [joints[i][0] for i in (jA,jB) ] )\n",
    "        yyMember = np.array( [joints[i][1] for i in (jA,jB) ] )\n",
    "        plt.text((((joints[jA][0] + joints[jB][0]) / 2)),((joints[jA][1] + joints[jB][1]) / 2),f\"{solution4[index]}\", fontsize=8)\n",
    "        plt.plot(xxMember, yyMember, 'b')"
   ]
  },
  {
   "cell_type": "markdown",
   "id": "5b998f68-ab92-4338-b09e-adf3debaa51b",
   "metadata": {},
   "source": [
    "## (b)\n",
    "\n",
    "Study how in exercise 2.3 the equations for the forces are derived.\n",
    "Then write a routine to compute the corresponding matrix automatically from the information above, so arrays like `joints1` and `members1`.\n",
    "\n",
    "You may have noticed that joint 1 and the $y$ component of joint 8 are not included in the equations of exercise 2.3. This is because joint 1 is rigidly fixed and joint 8 is fixed vertically. \n",
    "It is recommended that you first include all joints, so also joint 1 and the $y$ component of joint 8 in the truss of exercise 2.3. In a separate step, you can select the matrix rows that are \"free\" (not fixed in one or both of the directions).\n",
    "\n",
    "Create a vector with external forces (the downward arrows at joints 2, 5, 6 in exercise 2.3), and solve the system. \n",
    "\n",
    "Write the resulting force values in the graph of the truss near the appropriate members.\n",
    "\n",
    "The forces in a member can be compressive (like they \"push\" the member to become shorter) or tension forces (like they pull the member to become longer).\n",
    "Which member or members experience the largest compressive force? Which one experience the largest tension force?\n",
    "\n",
    "(In general one would try to keep such maximum forces as low as possible since that would allow one to use less material.)\n"
   ]
  },
  {
   "cell_type": "code",
   "execution_count": null,
   "id": "bb399253-26ab-4dd9-899b-2861923f0785",
   "metadata": {},
   "outputs": [
    {
     "name": "stdout",
     "output_type": "stream",
     "text": [
      "(13, 13)\n",
      "[-28.28427125  20.          10.         -30.          14.14213562\n",
      "  20.          -0.         -30.           7.07106781  25.\n",
      "  20.         -35.35533906  25.        ]\n"
     ]
    }
   ],
   "source": [
    "num_joints = len(joints1)\n",
    "num_members = len(members1)\n",
    "matrix = np.zeros((2 * num_joints, num_members))\n",
    "\n",
    "for member_index, (joint1, joint2) in enumerate(members1):\n",
    "    x1, y1 = joints1[joint1]\n",
    "    x2, y2 = joints1[joint2]\n",
    "\n",
    "    dx = x2 - x1\n",
    "    dy = y2 - y1\n",
    "\n",
    "    length = np.sqrt(dx**2 + dy**2)\n",
    "\n",
    "    cos_theta = dx / length\n",
    "    sin_theta = dy / length\n",
    "    \n",
    "    matrix[2 * joint1, member_index] = cos_theta\n",
    "    matrix[2 * joint1 + 1, member_index] = sin_theta  \n",
    "    matrix[2 * joint2, member_index] = -cos_theta  \n",
    "    matrix[2 * joint2 + 1, member_index] = -sin_theta  \n",
    "\n",
    "matrix_without_static_joints = matrix[2:-1]\n",
    "print(matrix_without_static_joints.shape)\n",
    "#print(matrix)\n",
    "#transposed_matrix = matrix.T\n",
    "#print(matrix.shape)\n",
    "forces_vector_book = np.array([0,10,0,0,0,0,0,15,0,20,0,0,0])\n",
    "solution4 = np.linalg.solve(matrix_without_static_joints,forces_vector_book)\n",
    "print(solution4)\n",
    "#for verification, this is the system of equations imported manually\n",
    "alpha = np.sqrt(2) / 2\n",
    "Truss_Forces = np.array([\n",
    "    [0, 1, 0, 0, 0, 0, -1, 0, 0, 0, 0, 0, 0],\n",
    "    [0, 0, 1, 0, 0, 0, 0, 0, 0, 0, 0, 0, 0],\n",
    "    [alpha, 0, 0, -1, -alpha, 0, 0, 0, 0, 0, 0, 0, 0],\n",
    "    [alpha, 0, 1, 0, alpha, 0, 0, 0, 0, 0, 0, 0, 0],\n",
    "    [0, 0, 0, 1, 0, 0, 0, -1, 0, 0, 0, 0, 0],\n",
    "    [0, 0, 0, 0, 0, 0, 1, 0, 0, 0, 0, 0, 0],\n",
    "    [0, 0, 0, 0, alpha, 1, 0, 0, -alpha, -1, 0, 0, 0],\n",
    "    [0, 0, 0, 0, alpha, 0, 1, 0, alpha, 0, 0, 0, 0],\n",
    "    [0, 0, 0, 0, 0, 0, 0, 0, 0, 1, 0, 0, -1],\n",
    "    [0, 0, 0, 0, 0, 0, 0, 0, 0, 0, 1, 0, 0],\n",
    "    [0, 0, 0, 0, 0, 0, 0, 1, alpha, 0, 0, -alpha, 0],\n",
    "    [0, 0, 0, 0, 0, 0, 0, 0, alpha, 0, 1, alpha, 0],\n",
    "    [0, 0, 0, 0, 0, 0, 0, 0, 0, 0, 0, alpha, 1]\n",
    "])\n",
    "\n",
    "# The mo\n"
   ]
  },
  {
   "cell_type": "code",
   "execution_count": null,
   "id": "a9732ee6",
   "metadata": {},
   "outputs": [],
   "source": []
  }
 ],
 "metadata": {
  "kernelspec": {
   "display_name": "vwrfznssyca7vvicg1fnlr1nc50ayai8-numalgos",
   "language": "python",
   "name": "python3"
  },
  "language_info": {
   "codemirror_mode": {
    "name": "ipython",
    "version": 3
   },
   "file_extension": ".py",
   "mimetype": "text/x-python",
   "name": "python",
   "nbconvert_exporter": "python",
   "pygments_lexer": "ipython3",
   "version": "3.12.7"
  }
 },
 "nbformat": 4,
 "nbformat_minor": 5
}
