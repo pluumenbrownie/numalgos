{
 "cells": [
  {
   "cell_type": "markdown",
   "id": "9d2d33dc-40f7-47c9-8311-915bd390df6e",
   "metadata": {
    "nbgrader": {
     "grade": false,
     "grade_id": "cell-06d3e5bf55c941ae",
     "locked": true,
     "schema_version": 3,
     "solution": false,
     "task": false
    },
    "tags": []
   },
   "source": [
    "# Homework set 4"
   ]
  },
  {
   "cell_type": "markdown",
   "id": "e7e1316e-5ede-480a-88a8-159651881d83",
   "metadata": {
    "nbgrader": {
     "grade": false,
     "grade_id": "cell-736ff6bc3e0d0696",
     "locked": true,
     "schema_version": 3,
     "solution": false,
     "task": false
    }
   },
   "source": [
    "Please **submit this Jupyter notebook through Canvas** no later than **Monday December 9, 9:00**. **Submit the notebook file with your answers (as .ipynb file) and a pdf printout. The pdf version can be used by the teachers to provide feedback. On canvas there are hints about creating a nice pdf version.**\n",
    "\n",
    "Before you hand in, please make sure the notebook runs, by running \"Restart kernel and run all cells...\" from the Kernel menu.\n",
    "\n",
    "Homework is in **groups of two**, and you are expected to hand in original work. Work that is copied from another group will not be accepted."
   ]
  },
  {
   "cell_type": "markdown",
   "id": "b5309324-51bc-4b00-966c-e83a1e2d0998",
   "metadata": {
    "nbgrader": {
     "grade": false,
     "grade_id": "cell-b13bc5ed16bce8e0",
     "locked": true,
     "schema_version": 3,
     "solution": false,
     "task": false
    }
   },
   "source": [
    "# Exercise 0\n",
    "Write down the names + student ID of the people in your group."
   ]
  },
  {
   "cell_type": "markdown",
   "id": "885d9818-facd-4354-a0e2-cd004acd2132",
   "metadata": {
    "nbgrader": {
     "grade": true,
     "grade_id": "cell-fd464f55ba436b1c",
     "locked": false,
     "points": 0,
     "schema_version": 3,
     "solution": true,
     "task": false
    }
   },
   "source": [
    "Michael MacFarlane Glasow - 12317217\n",
    "\n",
    "Wessel Beumer - 12640662"
   ]
  },
  {
   "cell_type": "markdown",
   "id": "29048d89-f6a9-4c6d-a5cb-fcc577fd7187",
   "metadata": {
    "nbgrader": {
     "grade": false,
     "grade_id": "cell-b5a7855ecca9f6be",
     "locked": true,
     "schema_version": 3,
     "solution": false,
     "task": false
    }
   },
   "source": [
    "Run the following cell to import NumPy, Matplotlib. If anything else is needed you can import this yourself."
   ]
  },
  {
   "cell_type": "code",
   "execution_count": 2,
   "id": "1820c74d-3c26-46d5-8af4-6d7ab54fd61d",
   "metadata": {},
   "outputs": [],
   "source": [
    "import numpy as np\n",
    "import matplotlib.pyplot as plt\n"
   ]
  },
  {
   "cell_type": "markdown",
   "id": "ea5293e8-b5f4-42fa-a94d-b764aec592da",
   "metadata": {},
   "source": [
    "# Exercise 1\n",
    "N.B.1. you are to implement the methods yourself.\n",
    "\n",
    "N.B.2. Tentative distribution of points is 2+1+2+2+2 points (plus 1 point makes 10).\n",
    "\n",
    "Given a function $f$, let $T(f,a,b,m)$ denote the composite trapezoid rule with $m$ subintervals over the interval $[a,b]$. \n",
    "\n",
    "## (a)\n",
    "Approximate the integral of $x^{-3}$ over $[a,b] = [ \\frac{1}{10}, 100 ]$ by the composite trapezoid rule $T(f,a,b,m)$ for $m = 2^k$. Plot the absolute approximation error for different values of $k$. Find the smallest $k$ such that the exact error is less than $\\epsilon = 10^{-3}$. Explain the slow convergence."
   ]
  },
  {
   "cell_type": "code",
   "execution_count": null,
   "id": "56024d22-5826-469f-b9a0-2b83b8eeed17",
   "metadata": {},
   "outputs": [
    {
     "name": "stdout",
     "output_type": "stream",
     "text": [
      "18\n",
      "49.99997269190868\n"
     ]
    },
    {
     "data": {
      "image/png": "[encoded data removed]",
      "text/plain": [
       "<Figure size 640x480 with 1 Axes>"
      ]
     },
     "metadata": {},
     "output_type": "display_data"
    }
   ],
   "source": [
    "def x_to_the_minus_third(x):\n",
    "    return x**-3\n",
    "\n",
    "def composite_trapezoid_rule(f, a, b, m, tol=1e-3):\n",
    "    h = (b - a) / m\n",
    "    x = np.linspace(a, b, m+1)\n",
    "    y = f(x)\n",
    "    approx = h * (y[0] + y[-1] + 2 * np.sum(y[1:-1])) / 2\n",
    "    return approx\n",
    "a = 1/10\n",
    "b = 100.0\n",
    "k = 20\n",
    "m = 2**k \n",
    "# approximate x**-3 by the composite tropezoid rule \n",
    "# over a, b = 1/10, 100\n",
    "# for m = 2**k\n",
    "\n",
    "def k_convergence(f, a, b, k, true_answer=50):\n",
    "    error = []\n",
    "    for i in range(k):\n",
    "        m = 2**i\n",
    "        approx = composite_trapezoid_rule(f, a, b, m)\n",
    "        error.append(abs(approx - true_answer))\n",
    "        if abs(approx - true_answer) < 1e-3:\n",
    "            return i\n",
    "    return error\n",
    "# find the smallest k such that the exact error is less than 1e-3\n",
    "\n",
    "error = k_convergence(x_to_the_minus_third, a, b, k)\n",
    "sol = composite_trapezoid_rule(x_to_the_minus_third, a, b, m)\n",
    "print(error)\n",
    "print(sol)\n",
    "# plot the absolute approximation for different values of k\n",
    "plt.plot(error)\n",
    "plt.show()  \n",
    "\n",
    "\n",
    "# explain the convergence\n",
    "\n"
   ]
  },
  {
   "cell_type": "markdown",
   "id": "2518a158-2ab1-412e-bb0c-fe57d53dc6e0",
   "metadata": {},
   "source": []
  },
  {
   "cell_type": "markdown",
   "id": "da3608cd-207d-4679-8fd1-5ee7611d3929",
   "metadata": {
    "tags": []
   },
   "source": [
    "## (b)\n",
    "\n",
    "To improve the convergence rate of the above problem, we may use an adaptive strategy, as discussed in the book and the lecture. Consider the following formulas for approximate integration\n",
    "$$I_1(f,a,b) = T(f,a,b,1)$$\n",
    "$$I_2(f,a,b) = T(f,a,b,2).$$\n",
    "Show, based on the precise error estimates for the trapezoid rule from the book/lecture that the error in $I_2$ can be estimated by a formula of the form \n",
    "$$E_2 = C (I_1 - I_2)$$\n",
    "and determine the constant $C$ (if you can't find $C$, you may take $C = 0.5$)."
   ]
  },
  {
   "cell_type": "markdown",
   "id": "06fd85c0-225e-497d-bab7-4104add465ca",
   "metadata": {},
   "source": []
  },
  {
   "cell_type": "markdown",
   "id": "6979c60b-8ecd-45bd-8b88-acecfdd03940",
   "metadata": {},
   "source": [
    "## (c)\n",
    "An adaptive strategy for computing the integral on an interval $[a,b]$ now is: Compute $I_2$ and $E_2$, and accept $I_2$ as an approximation when the estimated error $E_2$ is less or equal than a desired tolerance $\\epsilon$.  Otherwise, apply the procedure to \n",
    "$\\int_a^{\\frac{b+a}{2}} f(x) \\, dx$ and $\\int_{\\frac{b+a}{2}}^b f(x) \\, dx$ with tolerances $\\frac{\\epsilon}{2}$.\n",
    "\n",
    "Write a recursive python routine that implements the adaptive strategy.\n",
    "\n",
    "Then apply this routine to the function $x^{-3}$ with $a, b, \\epsilon$ as before. What is the exact error in the obtained approximation? "
   ]
  },
  {
   "cell_type": "code",
   "execution_count": null,
   "id": "8f66a8b2-02e4-4ab0-9801-709b3d6d085f",
   "metadata": {},
   "outputs": [],
   "source": []
  },
  {
   "cell_type": "markdown",
   "id": "98f219f7-e351-41f0-8eeb-dfa9a7e8cd56",
   "metadata": {},
   "source": [
    "## (d)\n",
    "\n",
    "Modify the code of (c) so that the number of function evaluations is counted. Optimize your implementation such that no unnecessary function evaluations are performed.\n",
    "\n",
    "Compare the number of function evaluations used in the adaptive strategy of (c) with the result of (a). \n",
    "(*Hint*: To count the number of function evaluations, you may use a global variable.)\n"
   ]
  },
  {
   "cell_type": "code",
   "execution_count": null,
   "id": "ed67a5aa-dba3-4da9-bb32-6f2a49096b30",
   "metadata": {},
   "outputs": [],
   "source": []
  },
  {
   "cell_type": "markdown",
   "id": "280bce8f-5bb7-4900-9813-6b29149dd011",
   "metadata": {},
   "source": []
  },
  {
   "cell_type": "markdown",
   "id": "465274b2-857f-4a75-a891-35c0c3951a5a",
   "metadata": {},
   "source": [
    "## (e)\n",
    "In the course of executing the recursive procedure, some subintervals are refined (split into two subintervals) while others aren't as a result of the choices made by the algorithm. It turns out that the choices made by this algorithm are not always optimal. Other algorithms, that decide in a different way which subinterval needs to be refined, may be more efficient in the sense that they require less function evaluations (while using the same formulas for the approximate integral and the approximate error associated with a subinterval).\n",
    "\n",
    "Can you explain why this is the case? Devise an alternative, non-recursive algorithm that addresses this issue and should to lead a more efficient integral computation. Describe your approach and algorithm in about 5 to 10 sentences (bullet points).\n"
   ]
  },
  {
   "cell_type": "markdown",
   "id": "4384b2a4-1738-440c-bc1a-9531dca3e126",
   "metadata": {},
   "source": []
  }
 ],
 "metadata": {
  "kernelspec": {
   "display_name": "base",
   "language": "python",
   "name": "python3"
  },
  "language_info": {
   "codemirror_mode": {
    "name": "ipython",
    "version": 3
   },
   "file_extension": ".py",
   "mimetype": "text/x-python",
   "name": "python",
   "nbconvert_exporter": "python",
   "pygments_lexer": "ipython3",
   "version": "3.12.4"
  }
 },
 "nbformat": 4,
 "nbformat_minor": 5
}
