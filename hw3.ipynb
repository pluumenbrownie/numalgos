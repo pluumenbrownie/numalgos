{
 "cells": [
  {
   "cell_type": "markdown",
   "id": "4006c230-0f0a-442b-b07c-e3ac087afbb2",
   "metadata": {
    "nbgrader": {
     "grade": false,
     "grade_id": "cell-06d3e5bf55c941ae",
     "locked": true,
     "schema_version": 3,
     "solution": false,
     "task": false
    },
    "tags": []
   },
   "source": [
    "# Homework set 3"
   ]
  },
  {
   "cell_type": "markdown",
   "id": "1b1b4bf1-32e3-4ac4-b7f6-ec2c254dce13",
   "metadata": {
    "nbgrader": {
     "grade": false,
     "grade_id": "cell-736ff6bc3e0d0696",
     "locked": true,
     "schema_version": 3,
     "solution": false,
     "task": false
    }
   },
   "source": [
    "Please **submit this Jupyter notebook through Canvas** no later than **Monday December 2**. **Submit the notebook file with your answers (as .ipynb file) and a pdf printout. The pdf version can be used by the teachers to provide feedback. On canvas there are hints about creating a nice pdf version.**\n",
    "\n",
    "Before you hand in, please make sure the notebook runs, by running \"Restart kernel and run all cells...\" from the Kernel menu.\n",
    "\n",
    "Homework is in **groups of two**, and you are expected to hand in original work. Work that is copied from another group will not be accepted."
   ]
  },
  {
   "cell_type": "markdown",
   "id": "7992e407",
   "metadata": {},
   "source": [
    "$$\n",
    "\\newcommand{\\bfA}{\\boldsymbol{A}}\n",
    "\\newcommand{\\bfB}{\\boldsymbol{B}}\n",
    "\\newcommand{\\bfJ}{\\boldsymbol{J}}\n",
    "\\newcommand{\\bfr}{\\boldsymbol{r}}\n",
    "\\newcommand{\\bfs}{\\boldsymbol{s}}\n",
    "\\newcommand{\\bfx}{\\boldsymbol{x}}\n",
    "\\newcommand{\\for}{\\text{\\bf for }}\n",
    "\\renewcommand{\\end}{\\text{\\bf end }}\n",
    "$$"
   ]
  },
  {
   "cell_type": "markdown",
   "id": "1859055d-08e7-4ea9-a150-3e516aca8149",
   "metadata": {
    "nbgrader": {
     "grade": false,
     "grade_id": "cell-b13bc5ed16bce8e0",
     "locked": true,
     "schema_version": 3,
     "solution": false,
     "task": false
    }
   },
   "source": [
    "# Exercise 0\n",
    "Write down the names + student ID of the people in your group."
   ]
  },
  {
   "cell_type": "markdown",
   "id": "16bb9f94-3dc9-4065-9acc-1f0f2159592a",
   "metadata": {
    "nbgrader": {
     "grade": true,
     "grade_id": "cell-fd464f55ba436b1c",
     "locked": false,
     "points": 0,
     "schema_version": 3,
     "solution": true,
     "task": false
    }
   },
   "source": []
  },
  {
   "cell_type": "markdown",
   "id": "4fd6e7f5-fd21-4513-b257-6aaafd1b51e9",
   "metadata": {
    "nbgrader": {
     "grade": false,
     "grade_id": "cell-b5a7855ecca9f6be",
     "locked": true,
     "schema_version": 3,
     "solution": false,
     "task": false
    }
   },
   "source": [
    "Run the following cell to import NumPy, Matplotlib. If anything else is needed you can import this yourself."
   ]
  },
  {
   "cell_type": "code",
   "execution_count": 21,
   "id": "c24e35cc-be36-4289-8ccc-3538644c6157",
   "metadata": {},
   "outputs": [],
   "source": [
    "import numpy as np\n",
    "import matplotlib.pyplot as plt\n",
    "from scipy.optimize import curve_fit\n"
   ]
  },
  {
   "cell_type": "markdown",
   "id": "ef387050-61e8-4b0d-b004-fc829b6322a9",
   "metadata": {},
   "source": [
    "# Exercise 1: Nonlinear least squares\n",
    "\n",
    "This exercise is about the Gauss-Newton method, and the Levenberg-Marquardt method, which are discussed in section 6.6 of Heath. Please read this section before making this homework set. **In this exercise set the Levenberg-Marquardt method is a little different from the one in Heath. The first equation in subsection 6.6.2 is replaced by**\n",
    "$$\n",
    "\\renewcommand{\\bfA}{\\boldsymbol{A}}\n",
    "\\renewcommand{\\bfB}{\\boldsymbol{B}}\n",
    "\\renewcommand{\\bfJ}{\\boldsymbol{J}}\n",
    "\\renewcommand{\\bfr}{\\boldsymbol{r}}\n",
    "\\renewcommand{\\bfs}{\\boldsymbol{s}}\n",
    "\\renewcommand{\\bfx}{\\boldsymbol{x}}\n",
    "\\renewcommand{\\for}{\\text{\\bf for }}\n",
    "\\renewcommand{\\end}{\\text{\\bf end }}\n",
    "\\bigg(\\bfJ^T(\\bfx_k) \\bfJ(\\bfx_k) \n",
    "+ \\mu_k \\operatorname{Diagonal}\\big( \\bfJ^T(\\bfx_k) \\bfJ(\\bfx_k) \\big) \\bigg) \\bfs_k\n",
    "= - \\bfJ^T(\\bfx_k) \\, \\bfr(\\bfx_k)\n",
    "$$\n",
    "Here $\\operatorname{Diagonal}(\\bfB)$ denotes the diagonal part of $\\bfB$. So $\\operatorname{Diagonal}(\\bfB)$ has the same shape as $\\bfB$ and identical entries on the diagonal and it has zero off-diagonal entries.\n",
    "\n",
    "The algorithm for Levenberg-Marquardt, with $\\mu_k$ constant (denoted $\\mu$ here), is then</br>\n",
    "$\\qquad \\bfx_0 = \\text{initial guess}$</br>\n",
    "$\\qquad \\mu = \\text{constant}$</br>\n",
    "$\\qquad \\for k = 0,1,2, \\ldots$</br>\n",
    "$\\qquad \\qquad \\bfA = \\bfJ_f(\\bfx_k)$</br>\n",
    "$\\qquad \\qquad \\text{solve } \\bfs_k \\text{ from } \n",
    "(\\bfA^T \\bfA + \\mu \\operatorname{Diagonal}(\\bfA^T \\bfA)) \\bfs_k = - \\bfA^T \\bfr(\\bfx_k)$</br>\n",
    "$\\qquad \\qquad \\bfx_{k+1} = \\bfx_k + \\bfs_k$</br>\n",
    "$\\qquad \\end$</br>\n",
    "\n",
    "This reduces to the Gauss-Newton method if $\\mu = 0$. "
   ]
  },
  {
   "cell_type": "markdown",
   "id": "51052506-f62f-45c1-a980-faaec89e7260",
   "metadata": {},
   "source": [
    "## (a)\n",
    "Implement the Levenberg-Marquardt method with constant $\\mu$ using a suitable stopping criterion. \n",
    "Make it such that the user can specify the value of the tolerance in the stopping criterion via a parameter `tol` and the maximum number of iterations via a\n",
    "parameter `maxIter`. In the implementation you can use library functions for linear algebra operations. "
   ]
  },
  {
   "cell_type": "code",
   "execution_count": 22,
   "id": "27c75b12-ae54-4b5f-8cee-8c9f3a1a3581",
   "metadata": {},
   "outputs": [],
   "source": [
    "# Q1: implement L-M\n",
    "def residual(c1, c2, t_array, y_array, function):\n",
    "    return y_array - function(t_array, c1, c2)\n",
    "\n",
    "# Q2: must implement `tol` and `maxIter`\n",
    "def levenberg_marquardt(c0, mu, function, jacobian, t_array, y_array, tol=1e-5, maxIter=100): \n",
    "    c = np.copy(c0)\n",
    "    for i in range(maxIter):\n",
    "    \n",
    "        J_x = jacobian(t_array, c[0], c[1])\n",
    "        r_x = residual(c[0], c[1], t_array, y_array, function)\n",
    "\n",
    "        JTJ = J_x.T @ J_x\n",
    "        damped_JTJ = JTJ + mu * np.diag(np.diag(JTJ))\n",
    "        JTR = J_x.T @ r_x\n",
    "\n",
    "        s_k = np.linalg.solve(damped_JTJ, -JTR)\n",
    "        c -= s_k\n",
    "        if np.linalg.norm(r_x) < tol or np.linalg.norm(s_k) < tol:\n",
    "            return c, i + 1\n",
    "    return c, maxIter"
   ]
  },
  {
   "cell_type": "markdown",
   "id": "2fe3f2bc-3459-4565-a21c-3418508fd181",
   "metadata": {},
   "source": [
    "## (b) \n",
    "\n",
    "The time course of drug concentration $y$ in the bloodstream is well described by\n",
    "$$ \\tag{1}\n",
    "  y = c_1 t e^{c_2 t} ,\n",
    "$$\n",
    "where $t$ denotes time after the drug was administered. The characteristics of the model\n",
    "are a quick rise as the drug enters the bloodstream, followed by slow exponential decay.\n",
    "The half-life of the drug is the time from the peak concentration to the time it drops to\n",
    "half that level. The measured level of the drug norfluoxetine in a patient's bloodstream at whole hours after it was administered is given in the following data:"
   ]
  },
  {
   "cell_type": "code",
   "execution_count": 23,
   "id": "2aa9b61c-0ceb-43b0-9391-e8d237281bb3",
   "metadata": {},
   "outputs": [],
   "source": [
    "# time in hours\n",
    "hour = np.array( [ 1.0, 2.0, 3.0, 4.0, 5.0, 6.0, 7.0, 8.0 ] )\n",
    "# concentration in ng/ml\n",
    "concentration = np.array( [ 8.0, 12.3, 15.5, 16.8, 17.1, 15.8, 15.2, 14.0 ] )\n"
   ]
  },
  {
   "cell_type": "markdown",
   "id": "12b973cc-1086-436d-80fd-aab3849892ed",
   "metadata": {},
   "source": [
    "Use the Gauss-Newton method to fit this data to the blood concentration model (1).\n",
    "\n",
    "Also use the Levenberg-Marquardt method with $\\mu =0.1$ to address the same problem.\n",
    "\n",
    "Which method produces the least number of iterations? N.B. clearly state the starting point. \n",
    "\n",
    "You are asked to use your own version of Gauss-Newton and Levenberg-Marquardt."
   ]
  },
  {
   "cell_type": "code",
   "execution_count": 35,
   "id": "0b03a550-182d-4603-b72b-be6c62d25940",
   "metadata": {},
   "outputs": [
    {
     "name": "stdout",
     "output_type": "stream",
     "text": [
      "Gauss-Newton computed the values:        [ 9.79692816 -0.21508717] in 12 iterations.\n",
      "Levenberg-Marquardt computed the values: [ 9.79691555 -0.21508692] in 25 iterations.\n",
      "\n",
      "When starting with the initial guess of [c1, c2] = [-1.  -0.1],\n",
      "Gauss-Newton needed the least iterations: 12,\n",
      "whereas Levenberg-Marquardt completed in 25 iterations.\n"
     ]
    },
    {
     "data": {
      "image/png": "[encoded data removed]",
      "text/plain": [
       "<Figure size 640x480 with 1 Axes>"
      ]
     },
     "metadata": {},
     "output_type": "display_data"
    }
   ],
   "source": [
    "def drug_time_f(t, c1, c2):\n",
    "    return c1 * t * np.exp( c2 * t )\n",
    "\n",
    "# F = x1*t*np.exp(x2*t)\n",
    "def jacobian_func(times, c1, c2):\n",
    "    J = np.zeros((8, 2))  \n",
    "    \n",
    "    for i, t in enumerate(times):\n",
    "        J[i, 0] = t * np.exp(c2 * t)             \n",
    "        J[i, 1] = c1 * t**2 * np.exp(c2 * t)\n",
    "    \n",
    "    return J\n",
    "\n",
    "\n",
    "# Q1: use G-N on data\n",
    "c_start = np.array([-1, -0.1])\n",
    "mu = 0.0\n",
    "root_gn, iter_count_gn = levenberg_marquardt(c_start, mu, drug_time_f, jacobian_func, hour, concentration)\n",
    "print(f\"Gauss-Newton computed the values:        {root_gn} in {iter_count_gn} iterations.\")\n",
    "\n",
    "# Q2: also use L-M with mu=0.1\n",
    "mu = 0.1\n",
    "root_lm, iter_count_lm = levenberg_marquardt(c_start, mu, drug_time_f, jacobian_func, hour, concentration)\n",
    "print(f\"Levenberg-Marquardt computed the values: {root_lm} in {iter_count_lm} iterations.\")\n",
    "\n",
    "print()\n",
    "# Q4: clearly state starting point\n",
    "print(f\"When starting with the initial guess of [c1, c2] = {c_start},\")\n",
    "# Q3: which methods had least iterations? \n",
    "print(f\"Gauss-Newton needed the least iterations: {iter_count_gn},\")\n",
    "print(f\"whereas Levenberg-Marquardt completed in {iter_count_lm} iterations.\")\n",
    "\n",
    "x_range = np.linspace(hour[0], hour[-1], 1000)\n",
    "plt.plot(hour, concentration, \"o\")\n",
    "plt.plot(x_range, drug_time_f(x_range, root_lm[0], root_lm[1]))\n",
    "plt.xlabel(\"time (hours)\")\n",
    "plt.ylabel(\"concentration (ng/ml)\")\n",
    "plt.title(\"Concentration of norfluoxetions in blood after administration\")\n",
    "plt.show()"
   ]
  },
  {
   "cell_type": "markdown",
   "id": "4cd1fa65-7d08-4c6d-95a1-f628f1cd3832",
   "metadata": {},
   "source": [
    "# (c)\n",
    "Try to find a starting point such that Gauss-Newton does not converge, while Levenberg-Marquardt does.\n",
    "\n"
   ]
  },
  {
   "cell_type": "code",
   "execution_count": 25,
   "id": "cb9a6ce9-5972-4752-b4f2-0b98784496d9",
   "metadata": {},
   "outputs": [],
   "source": [
    "# YOUR CODE HERE"
   ]
  },
  {
   "cell_type": "markdown",
   "id": "fe3db79a-df39-42cd-b50e-7e818536d6ce",
   "metadata": {},
   "source": [
    "# (d) \n",
    "So far for simplicity, we considered constant $\\mu$. However\n",
    "Levenberg-Marquardt is often applied adaptively with a varying $\\mu$. \n",
    "A common strategy is to continue to decrease $\\mu$ by a factor of 10 on each iteration step as long as the residual sum of squared errors is decreased by the step, and if the sum increases, to reject the step and increase $\\mu$ by a factor of 10.\n",
    "\n",
    "Implement an adaptive variant of Levenberg-Marquardt using such a strategy for choosing $\\mu$. \n",
    "\n",
    "Compare the performance (iteration number) of the adaptive variant with Gauss-Newton and the previous, non-adaptive variant of Levenberg-Marquardt. Consider a starting point for which Gauss-Newton converged rapidly and a starting point for which Gauss-Newton did not converge, but non-adaptive Levenberg-Marquardt did. Give your answer in a table for clarity, also indicating the starting point and if relevant other parameters."
   ]
  },
  {
   "cell_type": "code",
   "execution_count": null,
   "id": "0eefc00d-80ba-48a8-b122-65f8f87bf5a3",
   "metadata": {},
   "outputs": [],
   "source": [
    "# Q1: implement L-M\n",
    "def residual(c1, c2, t_array, y_array, function):\n",
    "    return y_array - function(t_array, c1, c2)\n",
    "\n",
    "# Q2: must implement `tol` and `maxIter`\n",
    "def levenberg_marquardt(c0, mu, function, jacobian, t_array, y_array, tol=1e-5, maxIter=100): \n",
    "    c = np.copy(c0)\n",
    "    for i in range(maxIter):\n",
    "    \n",
    "        J_x = jacobian(t_array, c[0], c[1])\n",
    "        r_x = residual(c[0], c[1], t_array, y_array, function)\n",
    "        old_residual_norm = np.linalg.solve(r_x)\n",
    "\n",
    "        JTJ = J_x.T @ J_x\n",
    "        damped_JTJ = JTJ + mu * np.diag(np.diag(JTJ))\n",
    "        JTR = J_x.T @ r_x\n",
    "\n",
    "        s_k = np.linalg.solve(damped_JTJ, -JTR)\n",
    "        c_new= c- s_k\n",
    "\n",
    "        r_x_new = residual(c_new[0], c_new[1], t_array, y_array, function)\n",
    "        new_residual_norm = np.linalg.norm(r_x_new)\n",
    "\n",
    "        if new_residual_norm < old_residual_norm:\n",
    "            mu *= 0.1\n",
    "            c = c_new\n",
    "        else:\n",
    "            mu *= 10\n",
    "\n",
    "        if np.linalg.norm(r_x) < tol or np.linalg.norm(s_k) < tol:\n",
    "            return c, i + 1, mu\n",
    "    return c, maxIter"
   ]
  }
 ],
 "metadata": {
  "kernelspec": {
   "display_name": "base",
   "language": "python",
   "name": "python3"
  },
  "language_info": {
   "codemirror_mode": {
    "name": "ipython",
    "version": 3
   },
   "file_extension": ".py",
   "mimetype": "text/x-python",
   "name": "python",
   "nbconvert_exporter": "python",
   "pygments_lexer": "ipython3",
   "version": "3.12.4"
  }
 },
 "nbformat": 4,
 "nbformat_minor": 5
}
